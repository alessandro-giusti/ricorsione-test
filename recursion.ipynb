{
 "cells": [
  {
   "cell_type": "markdown",
   "metadata": {},
   "source": [
    "# A few examples of recursive functions"
   ]
  },
  {
   "cell_type": "code",
   "execution_count": 8,
   "metadata": {},
   "outputs": [
    {
     "name": "stdout",
     "output_type": "stream",
     "text": [
      "Called my_list_length with argument: ['a', 'b', 'c', 3, 4, 'w']\n",
      "Called my_list_length with argument: ['b', 'c', 3, 4, 'w']\n",
      "Called my_list_length with argument: ['c', 3, 4, 'w']\n",
      "Called my_list_length with argument: [3, 4, 'w']\n",
      "Called my_list_length with argument: [4, 'w']\n",
      "Called my_list_length with argument: ['w']\n",
      "Called my_list_length with argument: []\n",
      "Returning 0\n",
      "Returning 1\n",
      "Returning 2\n",
      "Returning 3\n",
      "Returning 4\n",
      "Returning 5\n",
      "Returning 6\n"
     ]
    },
    {
     "data": {
      "text/plain": [
       "6"
      ]
     },
     "execution_count": 8,
     "metadata": {},
     "output_type": "execute_result"
    }
   ],
   "source": [
    "def my_list_length(alist):\n",
    "    print(\"Called my_list_length with argument: \"+str(alist))\n",
    "    if not alist: # if alist is empty\n",
    "        ret = 0\n",
    "    else:\n",
    "        ret = (1 + \n",
    "               my_list_length(alist[1:])  # sublist from its second element to the last\n",
    "              )\n",
    "    print(\"Returning \"+str(ret))\n",
    "    return ret\n",
    "\n",
    "my_list_length([\"a\",\"b\",\"c\", 3, 4, \"w\"])"
   ]
  },
  {
   "cell_type": "code",
   "execution_count": 10,
   "metadata": {},
   "outputs": [
    {
     "name": "stdout",
     "output_type": "stream",
     "text": [
      "Called my_print_list with argument: ['a', 'b', 'c', 3, 4, 'w']\n",
      "a\n",
      "Called my_print_list with argument: ['b', 'c', 3, 4, 'w']\n",
      "b\n",
      "Called my_print_list with argument: ['c', 3, 4, 'w']\n",
      "c\n",
      "Called my_print_list with argument: [3, 4, 'w']\n",
      "3\n",
      "Called my_print_list with argument: [4, 'w']\n",
      "4\n",
      "Called my_print_list with argument: ['w']\n",
      "w\n",
      "Called my_print_list with argument: []\n"
     ]
    }
   ],
   "source": [
    "def my_print_list(alist):\n",
    "    print(\"Called my_print_list with argument: \"+str(alist))\n",
    "    if not alist: # if alist is empty\n",
    "        return\n",
    "    else:\n",
    "        print(alist[0])\n",
    "        my_print_list(alist[1:])\n",
    "        return\n",
    "    \n",
    "my_print_list([\"a\",\"b\",\"c\", 3, 4, \"w\"])"
   ]
  },
  {
   "cell_type": "code",
   "execution_count": 15,
   "metadata": {},
   "outputs": [
    {
     "name": "stdout",
     "output_type": "stream",
     "text": [
      "Called remove_elem_from_list with arguments: ['a', 'b', 'a', 'd', 'e', 'a', 'g'] a\n",
      "Called remove_elem_from_list with arguments: ['b', 'a', 'd', 'e', 'a', 'g'] a\n",
      "Called remove_elem_from_list with arguments: ['a', 'd', 'e', 'a', 'g'] a\n",
      "Called remove_elem_from_list with arguments: ['d', 'e', 'a', 'g'] a\n",
      "Called remove_elem_from_list with arguments: ['e', 'a', 'g'] a\n",
      "Called remove_elem_from_list with arguments: ['a', 'g'] a\n",
      "Called remove_elem_from_list with arguments: ['g'] a\n",
      "Called remove_elem_from_list with arguments: [] a\n",
      "Returning []\n",
      "Returning ['g']\n",
      "Returning ['g']\n",
      "Returning ['e', 'g']\n",
      "Returning ['d', 'e', 'g']\n",
      "Returning ['d', 'e', 'g']\n",
      "Returning ['b', 'd', 'e', 'g']\n",
      "Returning ['b', 'd', 'e', 'g']\n"
     ]
    },
    {
     "data": {
      "text/plain": [
       "['b', 'd', 'e', 'g']"
      ]
     },
     "execution_count": 15,
     "metadata": {},
     "output_type": "execute_result"
    }
   ],
   "source": [
    "def remove_elem_from_list(alist, toremove):\n",
    "    print(\"Called remove_elem_from_list with arguments: {} {}\".format(alist,toremove))\n",
    "    if not alist: # if alist is empty\n",
    "        ret = []\n",
    "    else:\n",
    "        if(alist[0] == toremove):\n",
    "            ret = remove_elem_from_list(alist[1:], toremove)\n",
    "        else:\n",
    "            ret = [alist[0]] + remove_elem_from_list(alist[1:], toremove)\n",
    "    print(\"Returning \"+str(ret))\n",
    "    return ret\n",
    "        \n",
    "remove_elem_from_list([\"a\",\"b\",\"a\",\"d\",\"e\",\"a\",\"g\"],\"a\")"
   ]
  },
  {
   "cell_type": "code",
   "execution_count": 17,
   "metadata": {},
   "outputs": [
    {
     "name": "stdout",
     "output_type": "stream",
     "text": [
      "Called invert_list with arguments: [1, 2, 5]\n",
      "Called invert_list with arguments: [2, 5]\n",
      "Called invert_list with arguments: [5]\n",
      "Called invert_list with arguments: []\n",
      "Returning []\n",
      "Returning [5]\n",
      "Returning [5, 2]\n",
      "Returning [5, 2, 1]\n"
     ]
    },
    {
     "data": {
      "text/plain": [
       "[5, 2, 1]"
      ]
     },
     "execution_count": 17,
     "metadata": {},
     "output_type": "execute_result"
    }
   ],
   "source": [
    "def invert_list(alist):\n",
    "    print(\"Called invert_list with arguments: {}\".format(alist))\n",
    "    if not alist: # if alist is empty\n",
    "        ret = []\n",
    "    else:\n",
    "        ret = invert_list(alist[1:]) + [alist[0]]\n",
    "    print(\"Returning \"+str(ret))\n",
    "    return ret\n",
    "\n",
    "invert_list([1, 2, 5])"
   ]
  },
  {
   "cell_type": "code",
   "execution_count": 18,
   "metadata": {},
   "outputs": [
    {
     "name": "stdout",
     "output_type": "stream",
     "text": [
      "Called min_max_n_list with arguments: [3, 6, 8, 12, 9, 5, 3, 7, 9, 4] 5\n",
      "Called min_max_n_list with arguments: [6, 8, 12, 9, 5, 3, 7, 9, 4] 5\n",
      "Called min_max_n_list with arguments: [8, 12, 9, 5, 3, 7, 9, 4] 5\n",
      "Called min_max_n_list with arguments: [12, 9, 5, 3, 7, 9, 4] 5\n",
      "Called min_max_n_list with arguments: [9, 5, 3, 7, 9, 4] 5\n",
      "Called min_max_n_list with arguments: [5, 3, 7, 9, 4] 5\n",
      "Called min_max_n_list with arguments: [3, 7, 9, 4] 5\n",
      "Called min_max_n_list with arguments: [7, 9, 4] 5\n",
      "Called min_max_n_list with arguments: [9, 4] 5\n",
      "Called min_max_n_list with arguments: [4] 5\n",
      "Called min_max_n_list with arguments: [] 5\n",
      "Returning []\n",
      "Returning [4]\n",
      "Returning [4, 9]\n",
      "Returning [4, 9, 7]\n",
      "Returning [3, 4, 9, 7]\n",
      "Returning [5, 3, 4, 9, 7]\n",
      "Returning [5, 3, 4, 9, 7, 9]\n",
      "Returning [5, 3, 4, 9, 7, 9, 12]\n",
      "Returning [5, 3, 4, 9, 7, 9, 12, 8]\n",
      "Returning [5, 3, 4, 9, 7, 9, 12, 8, 6]\n",
      "Returning [3, 5, 3, 4, 9, 7, 9, 12, 8, 6]\n"
     ]
    },
    {
     "data": {
      "text/plain": [
       "[3, 5, 3, 4, 9, 7, 9, 12, 8, 6]"
      ]
     },
     "execution_count": 18,
     "metadata": {},
     "output_type": "execute_result"
    }
   ],
   "source": [
    "# build a new list with all numbers below n listed before all numbers above n in the original list\n",
    "\n",
    "def min_max_n_list(alist, n):\n",
    "    print(\"Called min_max_n_list with arguments: {} {}\".format(alist, n))\n",
    "    if not alist: # if alist is empty\n",
    "        ret = []\n",
    "    else:\n",
    "        if alist[0] > n:\n",
    "            ret = min_max_n_list(alist[1:], n) + [alist[0]]\n",
    "        else:\n",
    "            ret = [alist[0]] + min_max_n_list(alist[1:], n)\n",
    "    print(\"Returning \"+str(ret))\n",
    "    return ret\n",
    "\n",
    "min_max_n_list([3,6,8,12,9,5,3,7,9,4], 5)"
   ]
  },
  {
   "cell_type": "code",
   "execution_count": 24,
   "metadata": {},
   "outputs": [
    {
     "name": "stdout",
     "output_type": "stream",
     "text": [
      "Called palindrome with arguments: abcdeedcbba\n",
      "Called palindrome with arguments: bcdeedcbb\n",
      "Called palindrome with arguments: cdeedcb\n",
      "Returning False\n",
      "Returning False\n",
      "Returning False\n"
     ]
    },
    {
     "data": {
      "text/plain": [
       "False"
      ]
     },
     "execution_count": 24,
     "metadata": {},
     "output_type": "execute_result"
    }
   ],
   "source": [
    "def palindrome(alist):\n",
    "    print(\"Called palindrome with arguments: {}\".format(alist))\n",
    "    if not alist:\n",
    "        ret = True\n",
    "    else:\n",
    "        if(alist[0] == alist[-1]): # if the first element equals the last element\n",
    "            ret = palindrome(alist[1:-1]) # sublist from the second to the second-to-last\n",
    "        else:\n",
    "            ret = False\n",
    "    print(\"Returning \"+str(ret))\n",
    "    return ret\n",
    "\n",
    "palindrome(\"abcdeedcbba\")"
   ]
  }
 ],
 "metadata": {
  "kernelspec": {
   "display_name": "Python 3",
   "language": "python",
   "name": "python3"
  },
  "language_info": {
   "codemirror_mode": {
    "name": "ipython",
    "version": 3
   },
   "file_extension": ".py",
   "mimetype": "text/x-python",
   "name": "python",
   "nbconvert_exporter": "python",
   "pygments_lexer": "ipython3",
   "version": "3.6.4"
  }
 },
 "nbformat": 4,
 "nbformat_minor": 2
}
